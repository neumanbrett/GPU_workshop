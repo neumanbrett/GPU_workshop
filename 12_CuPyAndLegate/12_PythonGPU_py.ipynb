{
 "cells": [
  {
   "cell_type": "markdown",
   "id": "e6597bb3-15b6-4639-82ed-841386591567",
   "metadata": {},
   "source": [
    "![NCAR UCAR Logo](img/NCAR_CISL_NSF_banner.jpeg)\n",
    "# CuPy and Legate for NumPy, SciPy, Pandas code to GPU\n",
    "\n",
    "By: Brett Neuman [bneuman@ucar.edu](mailto:bneuman@ucar.edu), Consulting Services Group, CISL & NCAR\n",
    "\n",
    "Date: July 28th 2022"
   ]
  },
  {
   "cell_type": "markdown",
   "id": "300697eb-0d7a-4e09-80fd-869a2d502971",
   "metadata": {},
   "source": [
    "Head to the [NCAR JupyterHub portal](https://jupyterhub.hpc.ucar.edu/stable) and __start a JupyterHub session on Casper login__ (or batch nodes using 1 CPU, no GPUs) and open the notebook in `12_PythonGPU.ipynb`. Be sure to clone (if needed) and update/pull the NCAR GPU_workshop directory.\n",
    "\n",
    "```shell\n",
    "# Use the JupyterHub GitHub GUI on the left panel or the below shell commands\n",
    "git clone git@github.com:NCAR/GPU_workshop.git\n",
    "git pull\n",
    "```\n",
    "\n",
    "# Workshop Etiquette\n",
    "* Please mute yourself and turn off video during the session.\n",
    "* Questions may be submitted in the chat and will be answered when appropriate. You may also raise your hand, unmute, and ask questions during Q&A at the end of the presentation.\n",
    "* By participating, you are agreeing to [UCAR’s Code of Conduct](https://www.ucar.edu/who-we-are/ethics-integrity/codes-conduct/participants)\n",
    "* Recordings & other material will be archived & shared publicly.\n",
    "* Feel free to follow up with the GPU workshop team via Slack or submit support requests to [support.ucar.edu](https://support.ucar.edu)\n",
    "    * Office Hours: Asynchronous support via [Slack](https://ncargpuusers.slack.com) or schedule a time with an organizer"
   ]
  },
  {
   "cell_type": "markdown",
   "id": "553aa25c-d12f-42f1-bb23-1eb92d9fe3f2",
   "metadata": {},
   "source": [
    "## Notebook Setup\n",
    "Set the `PROJECT` code to a currently active project, ie `UCIS0004` for the GPU workshop, and `QUEUE` to the appropriate routing queue depending on if during a live workshop session (`gpuworkshop`), during weekday 8am to 5:30pm MT (`gpudev`), or all other times (`casper`). Due to limited shared GPU resources, please use `GPU_TYPE=gp100` during the workshop. Otherwise, set `GPU_TYPE=v100` (required for `gpudev`) for independent work. See [Casper queue documentation](https://arc.ucar.edu/knowledge_base/72581396#StartingCasperjobswithPBS-Concurrentresourcelimits) for more info.  "
   ]
  },
  {
   "cell_type": "code",
   "execution_count": null,
   "id": "a8debe3b-ce0c-43d1-b7b3-2c6c18de5659",
   "metadata": {},
   "outputs": [],
   "source": [
    "%%bash\n",
    "export PROJECT=UCIS0004\n",
    "export QUEUE=gpudev\n",
    "export GPU_TYPE=gp100\n",
    "\n",
    "module load nvhpc/22.2 &> /dev/null\n",
    "export PNETCDF_INC=/glade/u/apps/dav/opt/pnetcdf/1.12.2/openmpi/4.1.1/nvhpc/22.2/include\n",
    "export PNETCDF_LIB=/glade/u/apps/dav/opt/pnetcdf/1.12.2/openmpi/4.1.1/nvhpc/22.2/lib\n",
    "echo $GPU_TYPE"
   ]
  },
  {
   "cell_type": "markdown",
   "id": "40669051-77a8-44fc-9f81-a96645fbf270",
   "metadata": {
    "tags": []
   },
   "source": [
    "## Python Virtual Environment Setup\n",
    "\n",
    "See [Python virtual environment documentation](https://kb.ucar.edu/display/RC/Using+conda+environments+for+Python+access) for using the NCAR Python Librray (npl) or for setting up your own virtual environment."
   ]
  },
  {
   "cell_type": "code",
   "execution_count": 4,
   "id": "db0b8569-64df-4804-aae4-edfc87504cb9",
   "metadata": {
    "tags": []
   },
   "outputs": [],
   "source": [
    "%%bash\n",
    "module load conda/latest\n",
    "\n",
    "# Required first time run\n",
    "#mamba create -n pgpu python==3.7.* numpy scipy cupy matplotlib pandas xarray\n",
    "\n",
    "# Not needed\n",
    "#conda env create --file envs/environment.yml\n",
    "conda activate pgpu\n",
    "\n",
    "# Required to select kernel from JupyterHub\n",
    "# python -m ipykernel install --user --name=pgpu\n",
    "\n",
    "# Export a new virtual environment based on NPL\n",
    "# conda env export [--from-history] -n npl > npl-environment.yml"
   ]
  },
  {
   "cell_type": "code",
   "execution_count": 5,
   "id": "7d262a46-454a-470e-8e7e-46b1ed8dc616",
   "metadata": {},
   "outputs": [],
   "source": [
    "%%bash\n",
    "# jupyter kernelspec list\n",
    "# jupyter kernel -h\n",
    "# jupyter kernel --kernel=pgpu"
   ]
  },
  {
   "cell_type": "code",
   "execution_count": null,
   "id": "22a4a74d-1a70-47e4-bb6a-b239ca43e5cf",
   "metadata": {},
   "outputs": [],
   "source": []
  },
  {
   "cell_type": "code",
   "execution_count": 2,
   "id": "1f7b7dc3-d2d9-4538-8c9b-a97d4485b59c",
   "metadata": {},
   "outputs": [],
   "source": [
    "import cupy as cp"
   ]
  },
  {
   "cell_type": "code",
   "execution_count": 3,
   "id": "8a1b691f-b13a-4b87-acb5-8db64f564fb7",
   "metadata": {},
   "outputs": [
    {
     "name": "stdout",
     "output_type": "stream",
     "text": [
      "Using: numpy\n",
      "10.000045398899218\n"
     ]
    }
   ],
   "source": [
    "# Stable implementation of log(1 + exp(x))\n",
    "def softplus(x):\n",
    "    xp = cp.get_array_module(x)  # 'xp' is a standard usage in the community\n",
    "    print(\"Using:\", xp.__name__)\n",
    "    return xp.maximum(0, x) + xp.log1p(xp.exp(-abs(x))) \n",
    "\n",
    "print(softplus(10))"
   ]
  },
  {
   "cell_type": "markdown",
   "id": "8dfb6890-a078-4cfa-9182-d1e475c9706d",
   "metadata": {},
   "source": [
    "# Python GPU Packages and Tools\n",
    "\n",
    "Tools to enhance performant Python packages to be executed on the GPU.\n",
    "\n",
    "CuPy\n",
    "\n",
    "Legate"
   ]
  },
  {
   "cell_type": "markdown",
   "id": "f3b610dc-8da4-44b7-a8ec-e70df2b23526",
   "metadata": {},
   "source": [
    "## From CPU to GPU\n",
    "\n",
    "How to get your code to run on the GPU"
   ]
  },
  {
   "cell_type": "markdown",
   "id": "a5eea6db-efae-465a-bb0a-b20d9505330a",
   "metadata": {},
   "source": [
    "## GPU Principles applied in Python\n",
    "\n",
    "Awareness of memory location, memory management, synchronization, and porting choices are still the responsibility of the user.  "
   ]
  },
  {
   "cell_type": "markdown",
   "id": "f2bf9c1a-0179-40eb-9db1-259771d4c3c5",
   "metadata": {},
   "source": [
    "# CuPy"
   ]
  },
  {
   "cell_type": "markdown",
   "id": "3546a7f5-e7d5-4eeb-a27a-1076d46fab77",
   "metadata": {},
   "source": [
    "## Overview\n",
    "\n",
    "CuPy is a NumPy/SciPy-compatible array library for GPU-accelerated computing with Python. CuPy acts as a drop-in replacement to run existing NumPy/SciPy code on NVIDIA CUDA or AMD ROCm platforms.\n",
    "\n",
    "CuPy provides a ndarray, sparse matrices, and the associated routines for GPU devices, all having the same API as NumPy and SciPy."
   ]
  },
  {
   "cell_type": "markdown",
   "id": "80f55cac-6dc5-4ca8-9a51-34ed4f30df13",
   "metadata": {},
   "source": [
    "## Setup\n",
    "\n",
    "Drop in replace option\n",
    "\n",
    "CPU / GPU agnostic code with ```import cupy as xp```"
   ]
  },
  {
   "cell_type": "code",
   "execution_count": null,
   "id": "107430aa-5c53-47a6-a825-b162f0e31b62",
   "metadata": {},
   "outputs": [],
   "source": [
    "import cupy as cp"
   ]
  },
  {
   "cell_type": "code",
   "execution_count": null,
   "id": "0481d9f7-e3fe-45a1-bfee-39199f696dcb",
   "metadata": {},
   "outputs": [],
   "source": [
    "# Stable implementation of log(1 + exp(x))\n",
    "def softplus(x):\n",
    "    xp = cp.get_array_module(x)  # 'xp' is a standard usage in the community\n",
    "    print(\"Using:\", xp.__name__)\n",
    "    return xp.maximum(0, x) + xp.log1p(xp.exp(-abs(x))) \n",
    "\n",
    "\n",
    "print(softplus(10))"
   ]
  }
 ],
 "metadata": {
  "kernelspec": {
   "display_name": "Python [conda env:pgpu]",
   "language": "python",
   "name": "conda-env-pgpu-py"
  },
  "language_info": {
   "codemirror_mode": {
    "name": "ipython",
    "version": 3
   },
   "file_extension": ".py",
   "mimetype": "text/x-python",
   "name": "python",
   "nbconvert_exporter": "python",
   "pygments_lexer": "ipython3",
   "version": "3.7.12"
  }
 },
 "nbformat": 4,
 "nbformat_minor": 5
}
